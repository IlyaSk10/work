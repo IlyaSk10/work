{
 "cells": [
  {
   "cell_type": "code",
   "execution_count": 4,
   "id": "f2eb7566",
   "metadata": {},
   "outputs": [],
   "source": [
    "import numpy as np"
   ]
  },
  {
   "cell_type": "code",
   "execution_count": 5,
   "id": "170c2320",
   "metadata": {},
   "outputs": [],
   "source": [
    "import zipfile\n",
    "from shutil import copyfile\n",
    "import glob\n",
    "import re\n",
    "import h5py\n",
    "import green2\n",
    "import json\n",
    "import os\n",
    "import fnmatch"
   ]
  },
  {
   "cell_type": "code",
   "execution_count": 6,
   "id": "ad983528",
   "metadata": {},
   "outputs": [
    {
     "ename": "ModuleNotFoundError",
     "evalue": "No module named 'wavesensors'",
     "output_type": "error",
     "traceback": [
      "\u001b[0;31m---------------------------------------------------------------------------\u001b[0m",
      "\u001b[0;31mModuleNotFoundError\u001b[0m                       Traceback (most recent call last)",
      "Cell \u001b[0;32mIn[6], line 2\u001b[0m\n\u001b[1;32m      1\u001b[0m \u001b[38;5;28;01mfrom\u001b[39;00m \u001b[38;5;21;01mBachataClass_upd\u001b[39;00m \u001b[38;5;28;01mimport\u001b[39;00m \u001b[38;5;241m*\u001b[39m\n\u001b[0;32m----> 2\u001b[0m \u001b[38;5;28;01mfrom\u001b[39;00m \u001b[38;5;21;01mwavesensors\u001b[39;00m \u001b[38;5;28;01mimport\u001b[39;00m \u001b[38;5;241m*\u001b[39m\n\u001b[1;32m      3\u001b[0m \u001b[38;5;28;01mfrom\u001b[39;00m \u001b[38;5;21;01mwavesource\u001b[39;00m \u001b[38;5;28;01mimport\u001b[39;00m \u001b[38;5;241m*\u001b[39m\n",
      "\u001b[0;31mModuleNotFoundError\u001b[0m: No module named 'wavesensors'"
     ]
    }
   ],
   "source": [
    "from BachataClass_upd import *\n",
    "from wavesensors import *\n",
    "from wavesource import *"
   ]
  },
  {
   "cell_type": "code",
   "execution_count": 25,
   "id": "315d865e",
   "metadata": {},
   "outputs": [],
   "source": [
    "#!/usr/bin/env python3\n",
    "import numpy as np\n",
    "from pandas.api.types import is_list_like, is_dict_like\n",
    "\n",
    "# ---------------------------------------------------------------------------\n",
    "# Planar array of sensors (geometrical parameters and sensors location points)\n",
    "# ---------------------------------------------------------------------------\n",
    "class wavesensors(object):\n",
    "    def __init__(self, domain=None, dxy=None, xx=None, nsensors=None):\n",
    "        '''\n",
    "        Sensors mesh object\n",
    "        \n",
    "        Input:\n",
    "        domain \t\t-- dimensions, list of values [xmin, xmax, ymin, ymax]\n",
    "        nsensors \t-- number of sensors,list of integers [nx, ny]\n",
    "        xx (optional)\t-- coordinates of sensors, list with shape (n, 3)\n",
    "        dxy (optional)\t-- sensors placing step, list of values [dx, dy]\n",
    "        \n",
    "        z coordinates of sensors is assumed to be 0\n",
    "        \n",
    "        Either nsensors or dxy must be given, not together\n",
    "        If both nsensors and dxy not are not provided then assumed dxy = [size_x, size_y]\n",
    "        '''\n",
    "        \n",
    "        #if all(v is None for v in [hypocenter, size, xx, dx]):\n",
    "        #    raise ValueError(\"All None: Either hypocenter or source points must be given\")\n",
    "        if xx is not None:\n",
    "            self.coords = xx\n",
    "        elif domain is not None:\n",
    "            self.domain = domain\n",
    "            if nsensors is None:\n",
    "                if dxy is not None:\n",
    "                    self.dx = dxy\n",
    "                else:\n",
    "                    self.dx = self.size\n",
    "                \n",
    "            elif dxy is None:\n",
    "                self.nsensors = nsensors\n",
    "                self.dx = self.size / (nsensors + (nsensors==1) - 1)\n",
    "            else:\n",
    "                raise ValueError(\"Either nsensors or sensors placing step must be given, not both\")\n",
    "                \n",
    "            self.discretize()\n",
    "        else:\n",
    "            raise ValueError(\"Either sensors domain or sensors points must be given\")\n",
    "            \n",
    "    @property\n",
    "    def domain(self):\n",
    "        return self._domain\n",
    "        #else:\n",
    "        #    coords = self.coords[:,0:2]\n",
    "        #    return np.hstack(coords.min(),coords.max())\n",
    "        \n",
    "    @domain.setter\n",
    "    def domain(self, domain):\n",
    "        if is_list_like(domain):\n",
    "            if is_dict_like(domain):\n",
    "                mykeys = sorted(domain, key=limits)\n",
    "                domain = np.array([domain[i] for i in mykeys],dtype=float)\n",
    "            else:\n",
    "                domain = np.array(domain,dtype=float)\n",
    "            if len(domain)==4:\n",
    "                domain = domain.reshape(2,2)\n",
    "                self._domain = domain\n",
    "                self.size = domain[:,1] - domain[:,0]\n",
    "            \n",
    "                if any(self.size < 0):\n",
    "                    raise ValueError(\"Size of domain must be non-negative\")\n",
    "            else:\n",
    "                raise ValueError(\"Domain constraint should have the format [xa,xb,ya,yb]\")\n",
    "        else:\n",
    "            TypeError(\"Domain constraint should be listlike object\")\n",
    "            \n",
    "    @property\n",
    "    def size(self):\n",
    "        return self._size\n",
    "        \n",
    "    @size.setter\n",
    "    def size(self, size):\n",
    "        self._size = size\n",
    "    \n",
    "    @property\n",
    "    def nsensors(self):\n",
    "        return self._nsensors\n",
    "        \n",
    "    @nsensors.setter\n",
    "    def nsensors(self, nsensors):\n",
    "        if is_list_like(nsensors):\n",
    "            if len(nsensors)==2:\n",
    "                if is_dict_like(nsensors):\n",
    "                    nsensors = np.array([nsensors[i] for i in sorted(nsensors, key=str.lower)], dtype=int)\n",
    "                else:\n",
    "                    nsensors = np.array(nsensors, dtype=int)\n",
    "                #nsensors = nsensors + (nsensors==1)\n",
    "                self._nsensors = nsensors[0]*nsensors[1]\n",
    "                \n",
    "                if any(nsensors < 1):\n",
    "                    raise ValueError(\"Sensors number must not be less than 1\")\n",
    "            else:\n",
    "                raise ValueError(\"nsensors should have the format [nx,ny]\")\n",
    "        else:\n",
    "            TypeError(\"nsensors should be listlike object\")\n",
    "            \n",
    "    @property\n",
    "    def dx(self):\n",
    "        return self._dx\n",
    "    \n",
    "    @dx.setter\n",
    "    def dx(self, dxy):\n",
    "        if is_list_like(dxy):\n",
    "            if len(dxy)==2:\n",
    "                if is_dict_like(dxy):\n",
    "                    dxy = np.array([dxy[i] for i in sorted(dxy, key=str.lower)], dtype=float)\n",
    "                else:\n",
    "                    dxy = np.array(dxy, dtype=float)\n",
    "                self._dx = dxy*(dxy > 0) + (dxy==0)*self.size\n",
    "                \n",
    "                if any(dxy < 0):\n",
    "                    raise ValueError(\"Discretization mesh cell size must be non-negative\")\n",
    "            else:\n",
    "                raise ValueError(\"dxy should have the format [dx,dy]\")\n",
    "        else:\n",
    "            raise TypeError(\"dxy should be listlike object\")\n",
    "        \n",
    "    @property\n",
    "    def coords(self):\n",
    "        return self._coords\n",
    "    \n",
    "    @coords.setter\n",
    "    def coords(self, xx):\n",
    "        if xx is not None:\n",
    "            if is_list_like(xx) and (3 in np.shape(xx)):\n",
    "                self._coords = np.array(xx,dtype='d')\n",
    "            else:\n",
    "                raise TypeError(\"Sensor points coordinates must be list like and (n,3)-shaped\")           \n",
    "    \n",
    "    \n",
    "    def discretize(self):\n",
    "        nx = self.size/self.dx\n",
    "        ni = [int(i) for i in nx]\n",
    "        #padd = self.size - nix*self.dx\n",
    "        \n",
    "        #l = ni*self.dx \t#self.size - padd\n",
    "        #self.nsensors = np.array(ni) + 1\n",
    "            \n",
    "        x = np.linspace(self.domain[0,0], self.domain[0,1], ni[0] + 1)\n",
    "        y = np.linspace(self.domain[1,0], self.domain[1,1], ni[1] + 1)\n",
    "        self.nsensors = [len(x),len(y)]\n",
    "           \n",
    "        g = np.meshgrid(x,y)\n",
    "        loc = np.vstack(list(map(np.ravel, g))).T\n",
    "        #print(loc)\n",
    "        #print(self.nsensors)\n",
    "        self.coords = np.hstack((loc,np.zeros((self.nsensors,1))))\n",
    "        #self.domain = np.hstack((loc.min(),loc.max()))"
   ]
  },
  {
   "cell_type": "code",
   "execution_count": 26,
   "id": "ce79944b",
   "metadata": {},
   "outputs": [],
   "source": [
    "#!/usr/bin/env python3\n",
    "import numpy as np\n",
    "from pandas.api.types import is_list_like, is_dict_like\n",
    "\n",
    "# ---------------------------------------------------------------------------\n",
    "# Volumetric Source of seismic waves (geometrical parameters, mesh and tensor)\n",
    "# ---------------------------------------------------------------------------\n",
    "class wavesource(object):\n",
    "    def __init__(self, hypocenter=None, size=0, xx=None, dx=None, form='sphere', random=False):\n",
    "        '''\n",
    "        Source of waves object\n",
    "        \n",
    "        Input:\n",
    "        hypocenter \t-- source location, list of values [x, y, z]\n",
    "        size (optional)\t-- source size, number (default 0)\n",
    "        xx (optional)\t-- coordinates of source, list with shape (n, 3)\n",
    "        dx (optional)\t-- source mesh step, number (default is the same as size)\n",
    "        form (optional) -- 'sphere' for spherical source, otherwise cubic\n",
    "        random   \t-- if True irregular mesh, if False regular 3D mesh\n",
    "        \n",
    "        Either hypocenter or xx must be given\n",
    "        '''\n",
    "        if xx is not None:\n",
    "            self.coords = xx\n",
    "            self.origin = self.hypocenter()\n",
    "        elif hypocenter is not None:\n",
    "            self.origin = hypocenter\n",
    "            if size is not None:\n",
    "                self.size = size\n",
    "                if dx is not None:\n",
    "                    self.dx = dx\n",
    "                else:\n",
    "                    self.dx = 2*size\n",
    "            else:\n",
    "                self.size = 0\n",
    "                self.dx = size\n",
    "                \n",
    "            self.discretize(form, random)\n",
    "        else:\n",
    "            raise ValueError(\"Either hypocenter or source points must be given\")\n",
    "        self.source_points()\n",
    "                \n",
    "            \n",
    "    @property\n",
    "    def origin(self):\n",
    "        return self._origin\n",
    "        \n",
    "    @origin.setter\n",
    "    def origin(self, hypocenter):\n",
    "        if is_list_like(hypocenter) and (len(hypocenter) == 3):\n",
    "            if is_dict_like(hypocenter):\n",
    "                mykeys = sorted(hypocenter, key=str.lower)\n",
    "                self._origin = np.array([hypocenter[i] for i in mykeys], dtype=float)\n",
    "                #self._origin = np.array([hypocenter['x'],hypocenter['y'],hypocenter['z']])\n",
    "\n",
    "            #hypocenter = hypocenter.values() if is_dict_like(hypocenter) else hypocenter\n",
    "            else:\n",
    "                self._origin = np.array(hypocenter, dtype=float)\n",
    "        else:\n",
    "            raise TypeError(\"Hypocenter coordinates must be a numeric listlike object [x0,y0,z0]\")\n",
    "        \n",
    "    @property\n",
    "    def size(self):\n",
    "        if self._size is not None:\n",
    "            return self._size\n",
    "        else:\n",
    "            return self.source_dims()\n",
    "        \n",
    "    @size.setter\n",
    "    def size(self, size):\n",
    "        if size is not None:\n",
    "            size = float(size)\n",
    "            if size >= 0:\n",
    "                self._size = size\n",
    "            else:\n",
    "                raise ValueError(\"Size of source must be non-negative\")\n",
    "        else:\n",
    "            self._size = size\n",
    "        \n",
    "    @property\n",
    "    def coords(self):\n",
    "        return self._coords\n",
    "    \n",
    "    @coords.setter\n",
    "    def coords(self, xx):\n",
    "        if xx is not None:\n",
    "            if is_list_like(xx) and (3 in np.shape(xx)):\n",
    "                self._coords = np.array(xx,dtype='d')\n",
    "            else:\n",
    "                raise TypeError(\"Source points coordinates must be list like and (n,3)-shaped\")           \n",
    "    \n",
    "    @property\n",
    "    def dx(self):\n",
    "        return self._dx\n",
    "    \n",
    "    @dx.setter\n",
    "    def dx(self, dx):\n",
    "        dx = float(dx)\n",
    "        if dx < 0:\n",
    "            raise ValueError(\"Discretization mesh cell size must be non-negative\")\n",
    "        else:\n",
    "            self._dx = dx*(dx > 0) + self.size*(dx==0)\n",
    "    \n",
    "    def discretize(self, form, random):\n",
    "        #nx = self.size/self.dx\n",
    "        nix = int(self.size/self.dx)\n",
    "        #padd = self.size - nix*self.dx\n",
    "        \n",
    "        if random:\n",
    "            xx = (np.random.rand(nix**3,3)-0.5)*self.size + self.origin\n",
    "        else:\n",
    "            lx = nix*self.dx \t#self.size - padd\n",
    "            #nix = nix*(nix>0) + (nix==0)\n",
    "            \n",
    "            #xmin = self.origin[0]-lx/2; xmax = self.origin[0]+lx/2\n",
    "            #ymin = self.origin[1]-lx/2; ymax = self.origin[1]+lx/2\n",
    "            #zmin = self.origin[2]-lx/2; zmax = self.origin[2]+lx/2\n",
    "            \n",
    "            x = np.linspace(self.origin[0]-lx/2, self.origin[0]+lx/2, nix+1)\n",
    "            y = np.linspace(self.origin[1]-lx/2, self.origin[1]+lx/2, nix+1)\n",
    "            z = np.linspace(self.origin[2]-lx/2, self.origin[2]+lx/2, nix+1)\n",
    "           \n",
    "            g = np.meshgrid(x,y,z)\n",
    "            xx = np.vstack(list(map(np.ravel, g))).T\n",
    "            #print(xx)\n",
    "           \n",
    "        if form == 'sphere':\n",
    "            self._coords = xx[np.linalg.norm(xx-self.origin[None,:],axis=1) <= self.size/2,:]\n",
    "        else:\n",
    "            self._coords = xx\n",
    "           \n",
    "           \n",
    "    def hypocenter(self): \n",
    "        return self.coords.mean(axis=0)\n",
    "        \n",
    "    def source_dims(self):\n",
    "        self.dims = self.coords.max(axis=0) - self.coords.min(axis=0)\n",
    "        return self.dims\n",
    "        \n",
    "    def source_radius(self):\n",
    "        self.radius = np.linalg.norm(self.coords,axis=1).std()\n",
    "        return self.radius\n",
    "        \n",
    "    def source_points(self):\n",
    "        self.npoints = self.coords.shape[0]\n",
    "        return self.npoints\n",
    "    \n",
    "    def source_gridcellsize(self):\n",
    "        gridcellsize = [np.diff(np.unique(self.coords[:,i])).mean() for i in range(3)]\n",
    "        self.xarray = np.unique(self.coords[:,0])\n",
    "        self.yarray = np.unique(self.coords[:,1])\n",
    "        self.zarray = np.unique(self.coords[:,2])\n",
    "        print(gridcellsize)\n",
    "        \n",
    "    #def source_grid(self):\n",
    "    #     = self.coords.shape\n",
    "    #    grid = self.dims\n",
    "    #    return\n",
    "    \n",
    "    @property\n",
    "    def mtensor(self):\n",
    "        return self._mtensor\n",
    "    \n",
    "    @mtensor.setter    \n",
    "    def mtensor(self, tensor):\n",
    "        if is_list_like(tensor):\n",
    "            if len(tensor)==6:\n",
    "                self._mtensor = np.array(tensor, dtype=float)\n",
    "            elif np.shape(tensor)==(3,3):\n",
    "                self._mtensor = np.reshape(tensor, 9)[[0,4,8,1,2,5]]\n",
    "            else:\n",
    "                raise ValueError(\"Incorrect shape of seismic tensor: should be (6,) or (3,3)\")\n",
    "        else:\n",
    "            raise TypeError(\"Seismic tensor must be a list of numbers\")"
   ]
  },
  {
   "cell_type": "code",
   "execution_count": 27,
   "id": "380eaf73",
   "metadata": {},
   "outputs": [],
   "source": [
    "from rndflow import job"
   ]
  },
  {
   "cell_type": "code",
   "execution_count": 28,
   "id": "3c0b9f56",
   "metadata": {
    "lines_to_next_cell": 1
   },
   "outputs": [],
   "source": [
    "fmin, fmax = 10, 30\n",
    "xc = 0"
   ]
  },
  {
   "cell_type": "code",
   "execution_count": 29,
   "id": "7c8d1b36",
   "metadata": {
    "lines_to_next_cell": 1
   },
   "outputs": [],
   "source": [
    "# sorting function key\n",
    "def limits(key_string):\n",
    "    labels = [['a','low','lower','min','left','down','l','1'],\n",
    "              ['b','high', 'up','upper','right','max','r','2']]\n",
    "    \n",
    "    for i in [0,1]:\n",
    "        if (key_string.lower()[1:] in labels[i]) or (key_string.lower()[2:] in labels[i]):\n",
    "            return key_string.lower()[0]+labels[i][0]"
   ]
  },
  {
   "cell_type": "code",
   "execution_count": 30,
   "id": "ea62cd2d",
   "metadata": {
    "lines_to_next_cell": 1
   },
   "outputs": [],
   "source": [
    "#--------------------------------------------------------------------------\n",
    "#  Read zip file functions\n",
    "#--------------------------------------------------------------------------\n",
    "def read_hit_pts(filename):\n",
    "    \n",
    "    with open(filename, 'r') as f:\n",
    "        s = f.readlines()\n",
    "    f.close()\n",
    "\n",
    "    res = np.zeros((len(s), 6))\n",
    "    geo_coords=list()\n",
    "    names=[]\n",
    "    \n",
    "    for i in range(len(s)):\n",
    "        line=s[i].split()\n",
    "        res[i, :] = np.array([int(i) for i in line[1:7]])\n",
    "        geo_coords.append([float(line[8]),float(line[7]),float(line[6])]) # add real X, real Y, depth, changed axis between XY\n",
    "        names.append(line[0])\n",
    "\n",
    "    xy_cells = (res[:, 0:2])\n",
    "    xy_metres = (res[:, 2:4])\n",
    "    zz = (res[:, 4:])\n",
    "\n",
    "    return xy_cells, xy_metres, zz, geo_coords, names"
   ]
  },
  {
   "cell_type": "code",
   "execution_count": 31,
   "id": "9f6421fd",
   "metadata": {},
   "outputs": [],
   "source": [
    "#------------------------------------------------------------------------#\n",
    "#  _____________________________BEGIN__________________________________  #\n",
    "#------------------------------------------------------------------------#\n",
    "# Load everything from input package:\n",
    "globals().update(job.load())    #load variables from input package\n",
    "globals().update(job.params())  #load parameters from input package\n",
    "pkg=job.packages()[0]\n",
    "fields=pkg.fields"
   ]
  },
  {
   "cell_type": "code",
   "execution_count": 32,
   "id": "cde107b9",
   "metadata": {},
   "outputs": [],
   "source": [
    "files = glob.glob('**',recursive = True)"
   ]
  },
  {
   "cell_type": "code",
   "execution_count": 33,
   "id": "38901f56",
   "metadata": {},
   "outputs": [],
   "source": [
    "zip_file = [name for name in files if '.zip' in name]"
   ]
  },
  {
   "cell_type": "code",
   "execution_count": 34,
   "id": "dbc2b63d",
   "metadata": {
    "lines_to_next_cell": 2
   },
   "outputs": [],
   "source": [
    "if len(zip_file)>0:\n",
    "    try:\n",
    "        with zipfile.ZipFile(*zip_file) as z:\n",
    "            z.extractall(os.path.dirname(*zip_file))\n",
    "            print(\"Extracted all\")\n",
    "    except:\n",
    "        print(\"Invalid file\")"
   ]
  },
  {
   "cell_type": "code",
   "execution_count": 35,
   "id": "1e954f13",
   "metadata": {},
   "outputs": [],
   "source": [
    "cellsize=12"
   ]
  },
  {
   "cell_type": "code",
   "execution_count": 36,
   "id": "751ad85b",
   "metadata": {},
   "outputs": [
    {
     "name": "stdout",
     "output_type": "stream",
     "text": [
      "Reading source points coords\n"
     ]
    }
   ],
   "source": [
    "#---------------------------------------\n",
    "#read source points coordinates\n",
    "files = glob.glob('**',recursive = True)\n",
    "source_path=[s for s in files if fnmatch.fnmatch(s, '*.txt')]\n",
    "source_file=[s for s in source_path if 'points' in s][0]\n",
    "print('Reading source points coords')\n",
    "sourcexy_c, sourcexy_m, zz, geo_coords_source, source_names = read_hit_pts(source_file)"
   ]
  },
  {
   "cell_type": "code",
   "execution_count": 37,
   "id": "25dfe820",
   "metadata": {},
   "outputs": [
    {
     "name": "stdout",
     "output_type": "stream",
     "text": [
      "4455053.0 6085550.0\n"
     ]
    }
   ],
   "source": [
    "x_center,y_center=np.mean(np.array(geo_coords_source)[:,:2],axis=0)\n",
    "print(x_center,y_center)"
   ]
  },
  {
   "cell_type": "code",
   "execution_count": 38,
   "id": "bd991ef8",
   "metadata": {},
   "outputs": [
    {
     "ename": "ValueError",
     "evalue": "Source points data is not coherent! Abort...",
     "output_type": "error",
     "traceback": [
      "\u001b[0;31m---------------------------------------------------------------------------\u001b[0m",
      "\u001b[0;31mValueError\u001b[0m                                Traceback (most recent call last)",
      "Cell \u001b[0;32mIn[38], line 5\u001b[0m\n\u001b[1;32m      3\u001b[0m     \u001b[38;5;28mprint\u001b[39m(\u001b[38;5;124m'\u001b[39m\u001b[38;5;124mData is correct!\u001b[39m\u001b[38;5;124m'\u001b[39m)\n\u001b[1;32m      4\u001b[0m \u001b[38;5;28;01melse\u001b[39;00m:\n\u001b[0;32m----> 5\u001b[0m     \u001b[38;5;28;01mraise\u001b[39;00m \u001b[38;5;167;01mValueError\u001b[39;00m(\u001b[38;5;124m'\u001b[39m\u001b[38;5;124mSource points data is not coherent! Abort...\u001b[39m\u001b[38;5;124m'\u001b[39m)\n",
      "\u001b[0;31mValueError\u001b[0m: Source points data is not coherent! Abort..."
     ]
    }
   ],
   "source": [
    "#test\n",
    "if np.sum(sourcexy_c*cellsize - sourcexy_m, axis=(0,1)) == 0:\n",
    "    print('Data is correct!')\n",
    "else:\n",
    "    raise ValueError('Source points data is not coherent! Abort...')"
   ]
  },
  {
   "cell_type": "code",
   "execution_count": 39,
   "id": "75ced1c0",
   "metadata": {},
   "outputs": [
    {
     "name": "stdout",
     "output_type": "stream",
     "text": [
      "[[2050. 2040.  900.]]\n"
     ]
    }
   ],
   "source": [
    "xy_source = np.append(sourcexy_m, zz[:,1][:,None], axis=1)\n",
    "del sourcexy_m\n",
    "print(xy_source)"
   ]
  },
  {
   "cell_type": "code",
   "execution_count": 40,
   "id": "152e6e14",
   "metadata": {},
   "outputs": [
    {
     "name": "stdout",
     "output_type": "stream",
     "text": [
      "Reading sensors coords\n"
     ]
    }
   ],
   "source": [
    "#---------------------------------------\n",
    "#read sensors.txt\n",
    "sensors_path=[s for s in files if 'sensors.txt' in s][0]\n",
    "print('Reading sensors coords')\n",
    "sensorxy_c, sensorxy_m, zz, geo_coords_sens,sens_names = read_hit_pts(sensors_path)"
   ]
  },
  {
   "cell_type": "code",
   "execution_count": 41,
   "id": "0fe15387",
   "metadata": {},
   "outputs": [
    {
     "name": "stdout",
     "output_type": "stream",
     "text": [
      "[[4454493.0, 6086913.0, 0.0], [4454805.0, 6086797.0, 0.0], [4455184.0, 6086917.0, 0.0]]\n"
     ]
    }
   ],
   "source": [
    "print(geo_coords_sens[:3])"
   ]
  },
  {
   "cell_type": "code",
   "execution_count": 42,
   "id": "ae7777de",
   "metadata": {},
   "outputs": [
    {
     "ename": "ValueError",
     "evalue": "Sensors data is not coherent! Abort...",
     "output_type": "error",
     "traceback": [
      "\u001b[0;31m---------------------------------------------------------------------------\u001b[0m",
      "\u001b[0;31mValueError\u001b[0m                                Traceback (most recent call last)",
      "Cell \u001b[0;32mIn[42], line 5\u001b[0m\n\u001b[1;32m      3\u001b[0m     \u001b[38;5;28mprint\u001b[39m(\u001b[38;5;124m'\u001b[39m\u001b[38;5;124mData is correct!\u001b[39m\u001b[38;5;124m'\u001b[39m)\n\u001b[1;32m      4\u001b[0m \u001b[38;5;28;01melse\u001b[39;00m:\n\u001b[0;32m----> 5\u001b[0m     \u001b[38;5;28;01mraise\u001b[39;00m \u001b[38;5;167;01mValueError\u001b[39;00m(\u001b[38;5;124m'\u001b[39m\u001b[38;5;124mSensors data is not coherent! Abort...\u001b[39m\u001b[38;5;124m'\u001b[39m)\n",
      "\u001b[0;31mValueError\u001b[0m: Sensors data is not coherent! Abort..."
     ]
    }
   ],
   "source": [
    "#test\n",
    "if np.sum(sensorxy_c*cellsize - sensorxy_m, axis=(0,1)) == 0:\n",
    "    print('Data is correct!')\n",
    "else:\n",
    "    raise ValueError('Sensors data is not coherent! Abort...')"
   ]
  },
  {
   "cell_type": "code",
   "execution_count": 43,
   "id": "35fa721a",
   "metadata": {},
   "outputs": [
    {
     "name": "stdout",
     "output_type": "stream",
     "text": [
      "[[ 690. 2600.    0.]\n",
      " [ 800. 2280.    0.]\n",
      " [ 680. 1910.    0.]]\n"
     ]
    }
   ],
   "source": [
    "xy_sensors = np.append(sensorxy_m, zz[:,1][:,None], axis=1)\n",
    "del sensorxy_m\n",
    "print(xy_sensors[:3])"
   ]
  },
  {
   "cell_type": "code",
   "execution_count": 44,
   "id": "1c08f48d",
   "metadata": {},
   "outputs": [
    {
     "name": "stdout",
     "output_type": "stream",
     "text": [
      "[[1001, 4454493.0, 6086913.0, 0.0], [1002, 4454805.0, 6086797.0, 0.0], [1003, 4455184.0, 6086917.0, 0.0]]\n"
     ]
    }
   ],
   "source": [
    "field_lst=list(map(lambda name,coord: [int(name),*coord],sens_names,geo_coords_sens))\n",
    "print(field_lst[:3])\n",
    "# ----------------Initialization of source object -------------------------\n",
    "source = wavesource(xx=xy_source)"
   ]
  },
  {
   "cell_type": "code",
   "execution_count": 45,
   "id": "9cd6e294",
   "metadata": {},
   "outputs": [],
   "source": [
    "# ----------------Initialization of sensors array object ------------------\n",
    "sensors = wavesensors(xx=xy_sensors)"
   ]
  },
  {
   "cell_type": "code",
   "execution_count": 163,
   "id": "571addc8",
   "metadata": {},
   "outputs": [
    {
     "name": "stdout",
     "output_type": "stream",
     "text": [
      "VP 1250, VS 625.0\n",
      "Done\n"
     ]
    }
   ],
   "source": [
    "#----------------Calculation domainX, domainY, domainZ, --------------------\n",
    "shape=np.unique(xy_source[:,0]).shape[0]\n",
    "X=np.sort(np.unique(xy_source[:,0]))\n",
    "Y=np.sort(np.unique(xy_source[:,1]))\n",
    "Z=np.sort(np.unique(xy_source[:,2]))\n",
    "width_x=X[shape//2]-X[0]\n",
    "width_y=Y[shape//2]-Y[0]\n",
    "domainX=np.linspace((xc-width_x),(xc+width_x),shape)\n",
    "domainY=np.linspace((xc-width_y),(xc+width_y),shape)\n",
    "domainZ=Z\n",
    "#----------------Write data for batchata -----------------------------------\n",
    "vp=1250\n",
    "vs=vp/2\n",
    "fd=500\n",
    "T=5\n",
    "Q=30\n",
    "Nd = 2\n",
    "\n",
    "sens_geo_coords=np.array(field_lst)[:,1:]\n",
    "xx=sens_geo_coords-geo_coords_source\n",
    "\n",
    "# -----------BEFORE CORRECT\n",
    "rs = green2.response_t(xx, T=T, fs=fd)\n",
    "rs.make_green(Q=Q, vp=vp, vs=vs, fp=1e7, a3=1e-5, naive=False)\n",
    "\n",
    "Gtp = rs.Gtp(nD=Nd)\n",
    "Gts = rs.Gts(nD=Nd)\n",
    "Gtsum = -Gtp + Gts\n",
    "\n",
    "data_final=[]\n",
    "for i in range(sensors.coords.shape[0]):\n",
    "    data_final.extend(Gtsum[i,[2,0,1],:,:].reshape(3,1,6,rs.N))\n",
    "# ----------------Initialization of bachata-object -------------------------\n",
    "filename = f'batch_Q{Q}_VP{vp}_VS{vs}_Nd{Nd}_T{T}_fd{fd}_new.hdf5'\n",
    "\n",
    "kwargs = {'data_type': 'full_wave_time',\n",
    "            'channels': ['Z','X','Y'],\n",
    "            'L': rs.N,\n",
    "            'fd': fd,\n",
    "            'xcenter': x_center,\n",
    "            'ycenter': y_center,\n",
    "            'grid_step': np.array([cellsize]*3,dtype=int),\n",
    "            'altitude': np.array([source.origin[2]],dtype=float),\n",
    "            'mult_degree': np.array([10**power]),\n",
    "            'sensor': sens_names, \n",
    "            'domainX': domainX,\n",
    "            'domainY': domainY,\n",
    "            'domainZ': domainZ,\n",
    "            'field': np.array(field_lst)[:,:3],\n",
    "            'fmin': rs.ff.min(),\n",
    "            'fmax': rs.ff.max(),\n",
    "            'data': data_final \n",
    "            }                   # add power 10000 units\n",
    "\n",
    "print(f'VP {vp}, VS {vs}')\n",
    "jpath=job.save_package(label=pkg.label)\n",
    "fpath = str(jpath)+'/files/'\n",
    "os.mkdir(fpath)\n",
    "\n",
    "obj = BachataClass(fpath+filename,**kwargs)\n",
    "print('Done')"
   ]
  },
  {
   "cell_type": "code",
   "execution_count": 164,
   "id": "1f6ca4b6",
   "metadata": {},
   "outputs": [],
   "source": [
    "def integral(signal):\n",
    "    \n",
    "    integ=[]\n",
    "    for i in range(1,signal.shape[0]):\n",
    "        r=(signal[i]+signal[i-1])*fd\n",
    "        integ.append(r)\n",
    "    res=np.array(integ)\n",
    "    return res"
   ]
  },
  {
   "cell_type": "code",
   "execution_count": 165,
   "id": "ed8915d6",
   "metadata": {},
   "outputs": [],
   "source": [
    "# full_mod=h5py.File('batch_obj_0.001.hdf5')\n",
    "# full_mod['Channels'][sensor]['data'][0,tensor_comp,:].shape"
   ]
  },
  {
   "cell_type": "code",
   "execution_count": 169,
   "id": "a96e7db6",
   "metadata": {},
   "outputs": [
    {
     "name": "stdout",
     "output_type": "stream",
     "text": [
      "out/16/files/batch_Q30_VP1250_VS625.0_Nd2_T5_fd500_new.hdf5\n"
     ]
    },
    {
     "data": {
      "text/plain": [
       "<matplotlib.legend.Legend at 0x730dd61b1d90>"
      ]
     },
     "execution_count": 169,
     "metadata": {},
     "output_type": "execute_result"
    },
    {
     "data": {
      "image/png": "[encoded data removed]",
      "text/plain": [
       "<Figure size 640x480 with 1 Axes>"
      ]
     },
     "metadata": {},
     "output_type": "display_data"
    }
   ],
   "source": [
    "import matplotlib.pyplot as plt\n",
    "import h5py\n",
    "from scipy import signal\n",
    "import glob\n",
    "\n",
    "sensor='1030_Z'\n",
    "tensor_comp=2\n",
    "samples=1500\n",
    "\n",
    "files = glob.glob('**',recursive = True)\n",
    "path_to_full_modelator=[f for f in files if filename in f][0]\n",
    "print(path_to_full_modelator)\n",
    "\n",
    "simple_mod=h5py.File(path_to_full_modelator)\n",
    "full_mod_1=h5py.File('batch_obj_0.0005.hdf5') # power=1e4, modelling_step=0.0005 sig_len=5000\n",
    "full_mod_2=h5py.File('batch_obj_0.001.hdf5')  # power=2e4, modelling_step=0.001 sig_len=5000\n",
    "full_mod_3=h5py.File('batch_obj.hdf5') # power=1e4, modelling_step=0.001 sig_len=5000\n",
    "\n",
    "newton_power=1e4\n",
    "mult_degree=1e11\n",
    "modelling_step=0.001\n",
    "grid_step=12\n",
    "fd=500\n",
    "\n",
    "k=newton_power*mult_degree*modelling_step*grid_step#*(1/fd)\n",
    "\n",
    "# simple plot\n",
    "#plt.plot(simple_mod['Channels'][sensor]['data'][0,tensor_comp,:samples],label='simple modelator')\n",
    "#plt.plot(full_mod['Channels'][sensor]['data'][0,tensor_comp,:samples],label='full wave modelator')\n",
    "\n",
    "# centre explosion\n",
    "sum_simple_mod=np.sum(simple_mod['Channels'][sensor]['data'][0,:3,:samples],axis=0)\n",
    "sum_full_mod1=np.sum(full_mod_1['Channels'][sensor]['data'][0,:3,:samples],axis=0)\n",
    "sum_full_mod2=np.sum(full_mod_2['Channels'][sensor]['data'][0,:3,:samples],axis=0)\n",
    "sum_full_mod3=np.sum(full_mod_3['Channels'][sensor]['data'][0,:3,:samples],axis=0)\n",
    "#plt.plot(sum_simple_mod,label='sum, simple modelator')\n",
    "#plt.plot(sum_full_mod,label='sum, full wave modelator')\n",
    "\n",
    "# filtration\n",
    "fs=10\n",
    "sos = signal.butter(10, fs, 'lowpass', fs=fd, output='sos')\n",
    "\n",
    "plt.plot(signal.sosfilt(sos, sum_simple_mod),label='sum, simple modelator')\n",
    "#plt.plot(integral(signal.sosfilt(sos, sum_full_mod1)),label=\"integral(sum, full modelator 1)\")\n",
    "#plt.plot(integral(signal.sosfilt(sos, sum_full_mod2)),label=\"integral(sum, full modelator 2)\")\n",
    "plt.plot(integral(signal.sosfilt(sos, sum_full_mod3))/k,label=\"integral(sum, full modelator 3)\")\n",
    "\n",
    "plt.xlabel('samples')\n",
    "plt.grid()\n",
    "plt.legend()"
   ]
  },
  {
   "cell_type": "code",
   "execution_count": 162,
   "id": "9fae8782",
   "metadata": {
    "lines_to_next_cell": 0
   },
   "outputs": [
    {
     "data": {
      "text/plain": [
       "<matplotlib.legend.Legend at 0x730dd63e7940>"
      ]
     },
     "execution_count": 162,
     "metadata": {},
     "output_type": "execute_result"
    },
    {
     "data": {
      "image/png": "[encoded data removed]",
      "text/plain": [
       "<Figure size 640x480 with 1 Axes>"
      ]
     },
     "metadata": {},
     "output_type": "display_data"
    }
   ],
   "source": [
    "start_samples=500\n",
    "end_samples=700\n",
    "\n",
    "full_mod=h5py.File('batch_obj.hdf5') # power=1e4, modelling_step=0.001 sig_len=5000\n",
    "full_mod_1=h5py.File('batch_obj_0.0005.hdf5') # power=1e4, modelling_step=0.0005 sig_len=5000\n",
    "full_mod_2=h5py.File('batch_obj_0.001.hdf5')  # power=2e4, modelling_step=0.001 sig_len=5000\n",
    "\n",
    "full_mod=full_mod['Channels'][sensor]['data'][0,2,start_samples:end_samples]\n",
    "full_mod_1=full_mod_1['Channels'][sensor]['data'][0,2,start_samples:end_samples]\n",
    "full_mod_2=full_mod_2['Channels'][sensor]['data'][0,2,start_samples:end_samples]\n",
    "\n",
    "# sum_full_mod=np.sum(full_mod['Channels'][sensor]['data'][0,:3,:samples],axis=0)\n",
    "# sum_full_mod_1=np.sum(full_mod_1['Channels'][sensor]['data'][0,:3,:samples],axis=0)\n",
    "# sum_full_mod_2=np.sum(full_mod_2['Channels'][sensor]['data'][0,:3,:samples],axis=0)\n",
    "\n",
    "#plt.plot(integral(signal.sosfilt(sos, sum_full_mod)),label=\"integral(sum, full modelator pow 1e4, m_s 0.001)\")\n",
    "#plt.plot(integral(signal.sosfilt(sos, sum_full_mod_1))+1,label=\"integral(sum, full modelator pow 1e4, m_s 0.0005)\")\n",
    "#plt.plot((integral(signal.sosfilt(sos, sum_full_mod_2))-1)/2,label=\"integral(sum, full modelator pow 2e4, m_s 0.001)\")\n",
    "\n",
    "\n",
    "#plt.plot(full_mod_1+1,label=\"full modelator pow 1e4, m_s 0.0005\")\n",
    "plt.plot(full_mod_2/2,label=\"full modelator pow 2e4, m_s 0.001\")\n",
    "plt.plot(full_mod,label=\"full modelator pow 1e4, m_s 0.001\")\n",
    "\n",
    "\n",
    "plt.xlabel('samples')\n",
    "plt.grid()\n",
    "plt.legend()"
   ]
  },
  {
   "cell_type": "code",
   "execution_count": null,
   "id": "e1aedccf",
   "metadata": {
    "lines_to_next_cell": 2
   },
   "outputs": [],
   "source": []
  }
 ],
 "metadata": {
  "jupytext": {
   "cell_metadata_filter": "-all",
   "encoding": "# -*- coding: utf-8 -*-",
   "executable": "/usr/bin/env python3",
   "main_language": "python",
   "notebook_metadata_filter": "-all"
  },
  "kernelspec": {
   "display_name": "Python 3 (ipykernel)",
   "language": "python",
   "name": "python3"
  },
  "language_info": {
   "codemirror_mode": {
    "name": "ipython",
    "version": 3
   },
   "file_extension": ".py",
   "mimetype": "text/x-python",
   "name": "python",
   "nbconvert_exporter": "python",
   "pygments_lexer": "ipython3",
   "version": "3.9.2"
  }
 },
 "nbformat": 4,
 "nbformat_minor": 5
}
