{
 "cells": [
  {
   "cell_type": "code",
   "execution_count": null,
   "id": "f2eb7566",
   "metadata": {},
   "outputs": [],
   "source": [
    "import numpy as np"
   ]
  },
  {
   "cell_type": "code",
   "execution_count": null,
   "id": "170c2320",
   "metadata": {},
   "outputs": [],
   "source": [
    "import zipfile\n",
    "from shutil import copyfile\n",
    "import glob\n",
    "import re\n",
    "import h5py\n",
    "import green2\n",
    "import json\n",
    "import os\n",
    "import fnmatch"
   ]
  },
  {
   "cell_type": "code",
   "execution_count": null,
   "id": "ad983528",
   "metadata": {},
   "outputs": [],
   "source": [
    "from BachataClass_upd import *\n",
    "from wavesensors import *\n",
    "from wavesource import *"
   ]
  },
  {
   "cell_type": "code",
   "execution_count": null,
   "id": "380eaf73",
   "metadata": {},
   "outputs": [],
   "source": [
    "from rndflow import job"
   ]
  },
  {
   "cell_type": "code",
   "execution_count": null,
   "id": "3c0b9f56",
   "metadata": {
    "lines_to_next_cell": 1
   },
   "outputs": [],
   "source": [
    "fmin, fmax = 10, 30\n",
    "xc = 0"
   ]
  },
  {
   "cell_type": "code",
   "execution_count": null,
   "id": "7c8d1b36",
   "metadata": {
    "lines_to_next_cell": 1
   },
   "outputs": [],
   "source": [
    "# sorting function key\n",
    "def limits(key_string):\n",
    "    labels = [['a','low','lower','min','left','down','l','1'],\n",
    "              ['b','high', 'up','upper','right','max','r','2']]\n",
    "    \n",
    "    for i in [0,1]:\n",
    "        if (key_string.lower()[1:] in labels[i]) or (key_string.lower()[2:] in labels[i]):\n",
    "            return key_string.lower()[0]+labels[i][0]"
   ]
  },
  {
   "cell_type": "code",
   "execution_count": null,
   "id": "ea62cd2d",
   "metadata": {
    "lines_to_next_cell": 1
   },
   "outputs": [],
   "source": [
    "#--------------------------------------------------------------------------\n",
    "#  Read zip file functions\n",
    "#--------------------------------------------------------------------------\n",
    "def read_hit_pts(filename):\n",
    "    \n",
    "    with open(filename, 'r') as f:\n",
    "        s = f.readlines()\n",
    "    f.close()\n",
    "\n",
    "    res = np.zeros((len(s), 6))\n",
    "    geo_coords=list()\n",
    "    names=[]\n",
    "    \n",
    "    for i in range(len(s)):\n",
    "        line=s[i].split()\n",
    "        res[i, :] = np.array([int(i) for i in line[1:7]])\n",
    "        geo_coords.append([float(line[8]),float(line[7]),float(line[6])]) # add real X, real Y, depth, changed axis between XY\n",
    "        names.append(line[0])\n",
    "\n",
    "    xy_cells = (res[:, 0:2])\n",
    "    xy_metres = (res[:, 2:4])\n",
    "    zz = (res[:, 4:])\n",
    "\n",
    "    return xy_cells, xy_metres, zz, geo_coords, names"
   ]
  },
  {
   "cell_type": "code",
   "execution_count": null,
   "id": "9f6421fd",
   "metadata": {},
   "outputs": [],
   "source": [
    "#------------------------------------------------------------------------#\n",
    "#  _____________________________BEGIN__________________________________  #\n",
    "#------------------------------------------------------------------------#\n",
    "# Load everything from input package:\n",
    "globals().update(job.load())    #load variables from input package\n",
    "globals().update(job.params())  #load parameters from input package\n",
    "pkg=job.packages()[0]\n",
    "fields=pkg.fields"
   ]
  },
  {
   "cell_type": "code",
   "execution_count": null,
   "id": "cde107b9",
   "metadata": {},
   "outputs": [],
   "source": [
    "files = glob.glob('**',recursive = True)"
   ]
  },
  {
   "cell_type": "code",
   "execution_count": null,
   "id": "38901f56",
   "metadata": {},
   "outputs": [],
   "source": [
    "zip_file = [name for name in files if '.zip' in name]"
   ]
  },
  {
   "cell_type": "code",
   "execution_count": null,
   "id": "dbc2b63d",
   "metadata": {
    "lines_to_next_cell": 2
   },
   "outputs": [],
   "source": [
    "if len(zip_file)>0:\n",
    "    try:\n",
    "        with zipfile.ZipFile(*zip_file) as z:\n",
    "            z.extractall(os.path.dirname(*zip_file))\n",
    "            print(\"Extracted all\")\n",
    "    except:\n",
    "        print(\"Invalid file\")"
   ]
  },
  {
   "cell_type": "code",
   "execution_count": null,
   "id": "1e954f13",
   "metadata": {},
   "outputs": [],
   "source": [
    "cellsize=fields['cell_size']"
   ]
  },
  {
   "cell_type": "code",
   "execution_count": null,
   "id": "751ad85b",
   "metadata": {},
   "outputs": [],
   "source": [
    "#---------------------------------------\n",
    "#read source points coordinates\n",
    "files = glob.glob('**',recursive = True)\n",
    "source_path=[s for s in files if fnmatch.fnmatch(s, '*.txt')]\n",
    "source_file=[s for s in source_path if 'points' in s][0]\n",
    "print('Reading source points coords')\n",
    "sourcexy_c, sourcexy_m, zz, geo_coords_source, source_names = read_hit_pts(source_file)"
   ]
  },
  {
   "cell_type": "code",
   "execution_count": null,
   "id": "25dfe820",
   "metadata": {},
   "outputs": [],
   "source": [
    "x_center,y_center=np.mean(np.array(geo_coords_source)[:,:2],axis=0)\n",
    "print(x_center,y_center)"
   ]
  },
  {
   "cell_type": "code",
   "execution_count": null,
   "id": "bd991ef8",
   "metadata": {},
   "outputs": [],
   "source": [
    "#test\n",
    "if np.sum(sourcexy_c*cellsize - sourcexy_m, axis=(0,1)) == 0:\n",
    "    print('Data is correct!')\n",
    "else:\n",
    "    raise ValueError('Source points data is not coherent! Abort...')"
   ]
  },
  {
   "cell_type": "code",
   "execution_count": null,
   "id": "75ced1c0",
   "metadata": {},
   "outputs": [],
   "source": [
    "xy_source = np.append(sourcexy_m, zz[:,1][:,None], axis=1)\n",
    "del sourcexy_m\n",
    "print(xy_source)"
   ]
  },
  {
   "cell_type": "code",
   "execution_count": null,
   "id": "152e6e14",
   "metadata": {},
   "outputs": [],
   "source": [
    "#---------------------------------------\n",
    "#read sensors.txt\n",
    "sensors_path=[s for s in files if 'sensors.txt' in s][0]\n",
    "print('Reading sensors coords')\n",
    "sensorxy_c, sensorxy_m, zz, geo_coords_sens,sens_names = read_hit_pts(sensors_path)"
   ]
  },
  {
   "cell_type": "code",
   "execution_count": null,
   "id": "0fe15387",
   "metadata": {},
   "outputs": [],
   "source": [
    "print(geo_coords_sens[:3])"
   ]
  },
  {
   "cell_type": "code",
   "execution_count": null,
   "id": "ae7777de",
   "metadata": {},
   "outputs": [],
   "source": [
    "#test\n",
    "if np.sum(sensorxy_c*cellsize - sensorxy_m, axis=(0,1)) == 0:\n",
    "    print('Data is correct!')\n",
    "else:\n",
    "    raise ValueError('Sensors data is not coherent! Abort...')"
   ]
  },
  {
   "cell_type": "code",
   "execution_count": null,
   "id": "35fa721a",
   "metadata": {},
   "outputs": [],
   "source": [
    "xy_sensors = np.append(sensorxy_m, zz[:,1][:,None], axis=1)\n",
    "del sensorxy_m\n",
    "print(xy_sensors[:3])"
   ]
  },
  {
   "cell_type": "code",
   "execution_count": null,
   "id": "1c08f48d",
   "metadata": {},
   "outputs": [],
   "source": [
    "field_lst=list(map(lambda name,coord: [int(name),*coord],sens_names,geo_coords_sens))\n",
    "print(field_lst[:3])\n",
    "# ----------------Initialization of source object -------------------------\n",
    "source = wavesource(xx=xy_source)"
   ]
  },
  {
   "cell_type": "code",
   "execution_count": null,
   "id": "9cd6e294",
   "metadata": {},
   "outputs": [],
   "source": [
    "# ----------------Initialization of sensors array object ------------------\n",
    "sensors = wavesensors(xx=xy_sensors)"
   ]
  },
  {
   "cell_type": "code",
   "execution_count": null,
   "id": "571addc8",
   "metadata": {},
   "outputs": [],
   "source": [
    "#----------------Calculation domainX, domainY, domainZ, --------------------\n",
    "shape=np.unique(xy_source[:,0]).shape[0]\n",
    "X=np.sort(np.unique(xy_source[:,0]))\n",
    "Y=np.sort(np.unique(xy_source[:,1]))\n",
    "Z=np.sort(np.unique(xy_source[:,2]))\n",
    "width_x=X[shape//2]-X[0]\n",
    "width_y=Y[shape//2]-Y[0]\n",
    "domainX=np.linspace((xc-width_x),(xc+width_x),shape)\n",
    "domainY=np.linspace((xc-width_y),(xc+width_y),shape)\n",
    "domainZ=Z\n",
    "#----------------Write data for batchata -----------------------------------\n",
    "vp=7200\n",
    "vs=vp/2\n",
    "fd=500\n",
    "T=5\n",
    "Q=21\n",
    "Nd = 2\n",
    "\n",
    "sens_geo_coords=np.array(field_lst)[:,1:]\n",
    "xx=sens_geo_coords-geo_coords_source\n",
    "\n",
    "# -----------BEFORE CORRECT\n",
    "rs = green2.response_t(xx, T=T, fs=fd)\n",
    "rs.make_green(Q=Q, vp=vp, vs=vs, fp=1e7, a3=1e-5, naive=False)\n",
    "\n",
    "Gtp = rs.Gtp(nD=Nd)\n",
    "Gts = rs.Gts(nD=Nd)\n",
    "Gtsum = -Gtp + Gts\n",
    "\n",
    "data_final=[]\n",
    "for i in range(sensors.coords.shape[0]):\n",
    "    data_final.extend(Gtsum[i,[2,0,1],:,:].reshape(3,1,6,rs.N))\n",
    "# ----------------Initialization of bachata-object -------------------------\n",
    "filename = f'batch_Q{Q}_VP{vp}_VS{vs}_Nd{Nd}_T{T}_fd{fd}_new.hdf5'\n",
    "\n",
    "kwargs = {'data_type': 'full_wave_time',\n",
    "            'channels': ['Z','X','Y'],\n",
    "            'L': rs.N,\n",
    "            'fd': fd,\n",
    "            'xcenter': x_center,\n",
    "            'ycenter': y_center,\n",
    "            'grid_step': np.array([cellsize]*3,dtype=int),\n",
    "            'altitude': np.array([source.origin[2]],dtype=float),\n",
    "            'mult_degree': np.array([10**power]),\n",
    "            'sensor': sens_names, \n",
    "            'domainX': domainX,\n",
    "            'domainY': domainY,\n",
    "            'domainZ': domainZ,\n",
    "            'field': np.array(field_lst)[:,:3],\n",
    "            'fmin': rs.ff.min(),\n",
    "            'fmax': rs.ff.max(),\n",
    "            'data': data_final \n",
    "            }                   # add power 10000 units\n",
    "\n",
    "print(f'VP {vp}, VS {vs}')\n",
    "jpath=job.save_package(label=pkg.label)\n",
    "fpath = str(jpath)+'/files/'\n",
    "os.mkdir(fpath)\n",
    "\n",
    "obj = BachataClass(fpath+filename,**kwargs)\n",
    "print('Done')"
   ]
  },
  {
   "cell_type": "code",
   "execution_count": null,
   "id": "1f6ca4b6",
   "metadata": {},
   "outputs": [],
   "source": [
    "def integral(signal):\n",
    "    \n",
    "    integ=[]\n",
    "    for i in range(1,signal.shape[0]):\n",
    "        r=(signal[i]+signal[i-1])*fd\n",
    "        integ.append(r)\n",
    "    res=np.array(integ)\n",
    "    return res"
   ]
  },
  {
   "cell_type": "code",
   "execution_count": null,
   "id": "ed8915d6",
   "metadata": {},
   "outputs": [],
   "source": [
    "full_mod=h5py.File('batch_obj_0.001.hdf5')\n",
    "full_mod['Channels'][sensor]['data'][0,tensor_comp,:].shape"
   ]
  },
  {
   "cell_type": "code",
   "execution_count": null,
   "id": "a062a62e",
   "metadata": {},
   "outputs": [],
   "source": [
    "full_mod.keys()"
   ]
  },
  {
   "cell_type": "code",
   "execution_count": null,
   "id": "d86c46f8",
   "metadata": {},
   "outputs": [],
   "source": [
    "full_mod['L'][:]"
   ]
  },
  {
   "cell_type": "code",
   "execution_count": null,
   "id": "97a9d11e",
   "metadata": {},
   "outputs": [],
   "source": [
    "full_mod['Channels'][sensor]['data'][0,tensor_comp,:].shape"
   ]
  },
  {
   "cell_type": "code",
   "execution_count": null,
   "id": "a96e7db6",
   "metadata": {},
   "outputs": [],
   "source": [
    "import matplotlib.pyplot as plt\n",
    "import h5py\n",
    "from scipy import signal\n",
    "\n",
    "sensor='1030_Z'\n",
    "tensor_comp=2\n",
    "samples=1500\n",
    "\n",
    "files = glob.glob('**',recursive = True)\n",
    "path_to_full_modelator=[f for f in files if filename in f][0]\n",
    "print(path_to_full_modelator)\n",
    "\n",
    "simple_mod=h5py.File(path_to_full_modelator)\n",
    "full_mod=h5py.File('batch_obj_0.0005.hdf5') # power=1e4, modelling_step=0.0005 sig_len=5000\n",
    "#full_mod=h5py.File('batch_obj_0.001.hdf5')  # power=2e4, modelling_step=0.001 sig_len=5000\n",
    "\n",
    "newton_power=1e4\n",
    "mult_degree=1e11\n",
    "fd=500\n",
    "\n",
    "k=newton_power*mult_degree#*(1/fd)\n",
    "\n",
    "# simple plot\n",
    "#plt.plot(simple_mod['Channels'][sensor]['data'][0,tensor_comp,:samples],label='simple modelator')\n",
    "#plt.plot(full_mod['Channels'][sensor]['data'][0,tensor_comp,:samples],label='full wave modelator')\n",
    "\n",
    "# centre explosion\n",
    "sum_simple_mod=np.sum(simple_mod['Channels'][sensor]['data'][0,:3,:samples],axis=0)\n",
    "sum_full_mod=np.sum(full_mod['Channels'][sensor]['data'][0,:3,:samples],axis=0)\n",
    "#plt.plot(sum_simple_mod,label='sum, simple modelator')\n",
    "#plt.plot(sum_full_mod,label='sum, full wave modelator')\n",
    "\n",
    "# filtration\n",
    "fs=10\n",
    "sos = signal.butter(10, fs, 'lowpass', fs=fd, output='sos')\n",
    "\n",
    "plt.plot(signal.sosfilt(sos, sum_simple_mod)*k,label='sum, simple modelator')\n",
    "plt.plot(integral(signal.sosfilt(sos, sum_full_mod)),label=\"integral(sum, full modelator)\")\n",
    "\n",
    "plt.xlabel('samples')\n",
    "plt.grid()\n",
    "plt.legend()"
   ]
  },
  {
   "cell_type": "code",
   "execution_count": null,
   "id": "7ad59641",
   "metadata": {},
   "outputs": [],
   "source": [
    "full_mod"
   ]
  },
  {
   "cell_type": "code",
   "execution_count": null,
   "id": "9fae8782",
   "metadata": {
    "lines_to_next_cell": 0
   },
   "outputs": [],
   "source": [
    "samples=2500\n",
    "\n",
    "full_mod=h5py.File('batch_obj.hdf5') # power=1e4, modelling_step=0.001 sig_len=5000\n",
    "full_mod_1=h5py.File('batch_obj_0.0005.hdf5') # power=1e4, modelling_step=0.0005 sig_len=5000\n",
    "full_mod_2=h5py.File('batch_obj_0.001.hdf5')  # power=2e4, modelling_step=0.001 sig_len=5000\n",
    "\n",
    "full_mod=full_mod['Channels'][sensor]['data'][0,2,:samples]\n",
    "full_mod_1=full_mod_1['Channels'][sensor]['data'][0,2,:samples]\n",
    "full_mod_2=full_mod_2['Channels'][sensor]['data'][0,2,:samples]\n",
    "\n",
    "# sum_full_mod=np.sum(full_mod['Channels'][sensor]['data'][0,:3,:samples],axis=0)\n",
    "# sum_full_mod_1=np.sum(full_mod_1['Channels'][sensor]['data'][0,:3,:samples],axis=0)\n",
    "# sum_full_mod_2=np.sum(full_mod_2['Channels'][sensor]['data'][0,:3,:samples],axis=0)\n",
    "\n",
    "#plt.plot(integral(signal.sosfilt(sos, sum_full_mod)),label=\"integral(sum, full modelator pow 1e4, m_s 0.001)\")\n",
    "#plt.plot(integral(signal.sosfilt(sos, sum_full_mod_1))+1,label=\"integral(sum, full modelator pow 1e4, m_s 0.0005)\")\n",
    "#plt.plot((integral(signal.sosfilt(sos, sum_full_mod_2))-1)/2,label=\"integral(sum, full modelator pow 2e4, m_s 0.001)\")\n",
    "\n",
    "plt.plot(full_mod,label=\"full modelator pow 1e4, m_s 0.001\")\n",
    "plt.plot(full_mod_1+1,label=\"full modelator pow 1e4, m_s 0.0005\")\n",
    "plt.plot(full_mod_2-1,label=\"full modelator pow 2e4, m_s 0.001\")\n",
    "\n",
    "\n",
    "plt.xlabel('samples')\n",
    "plt.grid()\n",
    "plt.legend()"
   ]
  },
  {
   "cell_type": "code",
   "execution_count": null,
   "id": "e1aedccf",
   "metadata": {
    "lines_to_next_cell": 2
   },
   "outputs": [],
   "source": []
  }
 ],
 "metadata": {
  "jupytext": {
   "cell_metadata_filter": "-all",
   "encoding": "# -*- coding: utf-8 -*-",
   "executable": "/usr/bin/env python3",
   "main_language": "python",
   "notebook_metadata_filter": "-all",
   "text_representation": {
    "extension": ".py",
    "format_name": "light"
   }
  }
 },
 "nbformat": 4,
 "nbformat_minor": 5
}
